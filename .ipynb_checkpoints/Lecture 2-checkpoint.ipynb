{
 "cells": [
  {
   "cell_type": "markdown",
   "id": "21e7933a",
   "metadata": {},
   "source": [
    "# <span style='font-family:sans-serif'> Stanford CS229: Machine Learning Course by Andrew Ng"
   ]
  },
  {
   "cell_type": "markdown",
   "id": "42550faa",
   "metadata": {},
   "source": [
    "## <span style='font-family:sans-serif'> Lecture 2"
   ]
  },
  {
   "cell_type": "markdown",
   "id": "6bad7363",
   "metadata": {},
   "source": [
    "### <span style='font-family:sans-serif'> Linear Regression"
   ]
  },
  {
   "cell_type": "markdown",
   "id": "4e479efe",
   "metadata": {},
   "source": [
    "<span style='font-family:sans-serif'> Linear regression is a supervised learning algorithm that simulates a mathematical relationship between variables and makes predictions for continuous or numeric variables such as sales, salary, age, product price, etc. For this lecture we are going to use a dataset that contains information about apartments in Buenos Aires listed for sale in 2020. We will first work out an example with one variable."
   ]
  },
  {
   "cell_type": "markdown",
   "id": "5cae10e6",
   "metadata": {},
   "source": [
    "#### <span style='font-family:sans-serif'> One Variable"
   ]
  },
  {
   "cell_type": "markdown",
   "id": "e8b36c20",
   "metadata": {},
   "source": [
    "<span style='font-family:sans-serif'> Importing packages"
   ]
  },
  {
   "cell_type": "code",
   "execution_count": 1,
   "id": "2cd3bb8b",
   "metadata": {},
   "outputs": [],
   "source": [
    "import numpy as np\n",
    "import matplotlib.pyplot as plt\n",
    "import pandas as pd"
   ]
  },
  {
   "cell_type": "markdown",
   "id": "adcd395c",
   "metadata": {},
   "source": [
    "<span style='font-family:sans-serif'> Loading data"
   ]
  },
  {
   "cell_type": "code",
   "execution_count": 2,
   "id": "9b0da2db",
   "metadata": {},
   "outputs": [],
   "source": [
    "data = pd.read_csv(\"departamentos-en-venta-2020.csv\", \n",
    "                 dtype = {\"direccion\": 'str', \n",
    "                          \"propiedad\": 'str', \n",
    "                          \"dolares\": np.float64, \n",
    "                          \"pesos\": int, \n",
    "                          \"dolaresM2\": np.float64,\n",
    "                          \"pesosM2\": int, \n",
    "                          \"ambientes\": int, \n",
    "                          \"cotizacion\": int, \n",
    "                          \"trimestre\": 'str', \n",
    "                          \"barrio\": 'str', \n",
    "                          \"comunas\": 'str'})"
   ]
  },
  {
   "cell_type": "markdown",
   "id": "a0f0d032",
   "metadata": {},
   "source": [
    "<span style='font-family:sans-serif'> Visualizing the first 10 rows of the dataset"
   ]
  },
  {
   "cell_type": "code",
   "execution_count": 3,
   "id": "36c4eefe",
   "metadata": {},
   "outputs": [
    {
     "data": {
      "text/html": [
       "<div>\n",
       "<style scoped>\n",
       "    .dataframe tbody tr th:only-of-type {\n",
       "        vertical-align: middle;\n",
       "    }\n",
       "\n",
       "    .dataframe tbody tr th {\n",
       "        vertical-align: top;\n",
       "    }\n",
       "\n",
       "    .dataframe thead th {\n",
       "        text-align: right;\n",
       "    }\n",
       "</style>\n",
       "<table border=\"1\" class=\"dataframe\">\n",
       "  <thead>\n",
       "    <tr style=\"text-align: right;\">\n",
       "      <th></th>\n",
       "      <th>Direccion</th>\n",
       "      <th>PropiedadS</th>\n",
       "      <th>Dolares</th>\n",
       "      <th>Pesos</th>\n",
       "      <th>DolaresM2</th>\n",
       "      <th>PesosM2</th>\n",
       "      <th>Ambientes</th>\n",
       "      <th>Cotizacion</th>\n",
       "      <th>Trimestre</th>\n",
       "      <th>Barrio</th>\n",
       "      <th>Comunas</th>\n",
       "    </tr>\n",
       "  </thead>\n",
       "  <tbody>\n",
       "    <tr>\n",
       "      <th>0</th>\n",
       "      <td>Pje Cnel J F Bogado 4561</td>\n",
       "      <td>17</td>\n",
       "      <td>54900</td>\n",
       "      <td>3513600</td>\n",
       "      <td>3229</td>\n",
       "      <td>206682</td>\n",
       "      <td>1</td>\n",
       "      <td>64</td>\n",
       "      <td>SEGUNDO</td>\n",
       "      <td>ALMAGRO</td>\n",
       "      <td>5</td>\n",
       "    </tr>\n",
       "    <tr>\n",
       "      <th>1</th>\n",
       "      <td>BOGADO 4500</td>\n",
       "      <td>18</td>\n",
       "      <td>53000</td>\n",
       "      <td>3392000</td>\n",
       "      <td>2944</td>\n",
       "      <td>188444</td>\n",
       "      <td>1</td>\n",
       "      <td>64</td>\n",
       "      <td>SEGUNDO</td>\n",
       "      <td>ALMAGRO</td>\n",
       "      <td>5</td>\n",
       "    </tr>\n",
       "    <tr>\n",
       "      <th>2</th>\n",
       "      <td>Pte H Yrigoyen 3381</td>\n",
       "      <td>25</td>\n",
       "      <td>45000</td>\n",
       "      <td>2880000</td>\n",
       "      <td>2500</td>\n",
       "      <td>160000</td>\n",
       "      <td>1</td>\n",
       "      <td>64</td>\n",
       "      <td>SEGUNDO</td>\n",
       "      <td>ALMAGRO</td>\n",
       "      <td>5</td>\n",
       "    </tr>\n",
       "    <tr>\n",
       "      <th>3</th>\n",
       "      <td>PASAJE BOGADO 4500</td>\n",
       "      <td>18</td>\n",
       "      <td>41000</td>\n",
       "      <td>2624000</td>\n",
       "      <td>2278</td>\n",
       "      <td>145778</td>\n",
       "      <td>1</td>\n",
       "      <td>64</td>\n",
       "      <td>SEGUNDO</td>\n",
       "      <td>ALMAGRO</td>\n",
       "      <td>5</td>\n",
       "    </tr>\n",
       "    <tr>\n",
       "      <th>4</th>\n",
       "      <td>Estado de Palestina 500</td>\n",
       "      <td>18</td>\n",
       "      <td>58900</td>\n",
       "      <td>3769600</td>\n",
       "      <td>3272</td>\n",
       "      <td>209422</td>\n",
       "      <td>1</td>\n",
       "      <td>64</td>\n",
       "      <td>SEGUNDO</td>\n",
       "      <td>ALMAGRO</td>\n",
       "      <td>5</td>\n",
       "    </tr>\n",
       "    <tr>\n",
       "      <th>5</th>\n",
       "      <td>Mario Bravo al 200 0</td>\n",
       "      <td>23</td>\n",
       "      <td>60000</td>\n",
       "      <td>3840000</td>\n",
       "      <td>3158</td>\n",
       "      <td>202105</td>\n",
       "      <td>1</td>\n",
       "      <td>64</td>\n",
       "      <td>SEGUNDO</td>\n",
       "      <td>ALMAGRO</td>\n",
       "      <td>5</td>\n",
       "    </tr>\n",
       "    <tr>\n",
       "      <th>6</th>\n",
       "      <td>Gascon al 1000 0</td>\n",
       "      <td>47</td>\n",
       "      <td>75000</td>\n",
       "      <td>4800000</td>\n",
       "      <td>3750</td>\n",
       "      <td>240000</td>\n",
       "      <td>1</td>\n",
       "      <td>64</td>\n",
       "      <td>SEGUNDO</td>\n",
       "      <td>ALMAGRO</td>\n",
       "      <td>5</td>\n",
       "    </tr>\n",
       "    <tr>\n",
       "      <th>7</th>\n",
       "      <td>Don Bosco 3586</td>\n",
       "      <td>42</td>\n",
       "      <td>46900</td>\n",
       "      <td>3001600</td>\n",
       "      <td>2233</td>\n",
       "      <td>142933</td>\n",
       "      <td>1</td>\n",
       "      <td>64</td>\n",
       "      <td>SEGUNDO</td>\n",
       "      <td>ALMAGRO</td>\n",
       "      <td>5</td>\n",
       "    </tr>\n",
       "    <tr>\n",
       "      <th>8</th>\n",
       "      <td>Colombres 585</td>\n",
       "      <td>21</td>\n",
       "      <td>56900</td>\n",
       "      <td>3641600</td>\n",
       "      <td>2710</td>\n",
       "      <td>173410</td>\n",
       "      <td>1</td>\n",
       "      <td>64</td>\n",
       "      <td>SEGUNDO</td>\n",
       "      <td>ALMAGRO</td>\n",
       "      <td>5</td>\n",
       "    </tr>\n",
       "    <tr>\n",
       "      <th>9</th>\n",
       "      <td>Capital 0</td>\n",
       "      <td>26</td>\n",
       "      <td>63000</td>\n",
       "      <td>4032000</td>\n",
       "      <td>2864</td>\n",
       "      <td>183273</td>\n",
       "      <td>1</td>\n",
       "      <td>64</td>\n",
       "      <td>SEGUNDO</td>\n",
       "      <td>ALMAGRO</td>\n",
       "      <td>5</td>\n",
       "    </tr>\n",
       "  </tbody>\n",
       "</table>\n",
       "</div>"
      ],
      "text/plain": [
       "                  Direccion  PropiedadS  Dolares    Pesos  DolaresM2  PesosM2  \\\n",
       "0  Pje Cnel J F Bogado 4561          17    54900  3513600       3229   206682   \n",
       "1               BOGADO 4500          18    53000  3392000       2944   188444   \n",
       "2       Pte H Yrigoyen 3381          25    45000  2880000       2500   160000   \n",
       "3        PASAJE BOGADO 4500          18    41000  2624000       2278   145778   \n",
       "4   Estado de Palestina 500          18    58900  3769600       3272   209422   \n",
       "5      Mario Bravo al 200 0          23    60000  3840000       3158   202105   \n",
       "6          Gascon al 1000 0          47    75000  4800000       3750   240000   \n",
       "7            Don Bosco 3586          42    46900  3001600       2233   142933   \n",
       "8             Colombres 585          21    56900  3641600       2710   173410   \n",
       "9                 Capital 0          26    63000  4032000       2864   183273   \n",
       "\n",
       "   Ambientes  Cotizacion Trimestre   Barrio  Comunas  \n",
       "0          1          64   SEGUNDO  ALMAGRO        5  \n",
       "1          1          64   SEGUNDO  ALMAGRO        5  \n",
       "2          1          64   SEGUNDO  ALMAGRO        5  \n",
       "3          1          64   SEGUNDO  ALMAGRO        5  \n",
       "4          1          64   SEGUNDO  ALMAGRO        5  \n",
       "5          1          64   SEGUNDO  ALMAGRO        5  \n",
       "6          1          64   SEGUNDO  ALMAGRO        5  \n",
       "7          1          64   SEGUNDO  ALMAGRO        5  \n",
       "8          1          64   SEGUNDO  ALMAGRO        5  \n",
       "9          1          64   SEGUNDO  ALMAGRO        5  "
      ]
     },
     "execution_count": 3,
     "metadata": {},
     "output_type": "execute_result"
    }
   ],
   "source": [
    "data.head(10)"
   ]
  },
  {
   "cell_type": "markdown",
   "id": "3f77c5b4",
   "metadata": {},
   "source": [
    "<span style='font-family:sans-serif'> Computing the new column \"Superficie\" (Surface in sqm) and visualizing the first 10 rows of the dataset"
   ]
  },
  {
   "cell_type": "code",
   "execution_count": 4,
   "id": "d55cab66",
   "metadata": {},
   "outputs": [
    {
     "data": {
      "text/html": [
       "<div>\n",
       "<style scoped>\n",
       "    .dataframe tbody tr th:only-of-type {\n",
       "        vertical-align: middle;\n",
       "    }\n",
       "\n",
       "    .dataframe tbody tr th {\n",
       "        vertical-align: top;\n",
       "    }\n",
       "\n",
       "    .dataframe thead th {\n",
       "        text-align: right;\n",
       "    }\n",
       "</style>\n",
       "<table border=\"1\" class=\"dataframe\">\n",
       "  <thead>\n",
       "    <tr style=\"text-align: right;\">\n",
       "      <th></th>\n",
       "      <th>Direccion</th>\n",
       "      <th>PropiedadS</th>\n",
       "      <th>Dolares</th>\n",
       "      <th>Pesos</th>\n",
       "      <th>DolaresM2</th>\n",
       "      <th>PesosM2</th>\n",
       "      <th>Ambientes</th>\n",
       "      <th>Cotizacion</th>\n",
       "      <th>Trimestre</th>\n",
       "      <th>Barrio</th>\n",
       "      <th>Comunas</th>\n",
       "      <th>SuperficieM2</th>\n",
       "    </tr>\n",
       "  </thead>\n",
       "  <tbody>\n",
       "    <tr>\n",
       "      <th>0</th>\n",
       "      <td>Pje Cnel J F Bogado 4561</td>\n",
       "      <td>17</td>\n",
       "      <td>54900</td>\n",
       "      <td>3513600</td>\n",
       "      <td>3229</td>\n",
       "      <td>206682</td>\n",
       "      <td>1</td>\n",
       "      <td>64</td>\n",
       "      <td>SEGUNDO</td>\n",
       "      <td>ALMAGRO</td>\n",
       "      <td>5</td>\n",
       "      <td>17.002168</td>\n",
       "    </tr>\n",
       "    <tr>\n",
       "      <th>1</th>\n",
       "      <td>BOGADO 4500</td>\n",
       "      <td>18</td>\n",
       "      <td>53000</td>\n",
       "      <td>3392000</td>\n",
       "      <td>2944</td>\n",
       "      <td>188444</td>\n",
       "      <td>1</td>\n",
       "      <td>64</td>\n",
       "      <td>SEGUNDO</td>\n",
       "      <td>ALMAGRO</td>\n",
       "      <td>5</td>\n",
       "      <td>18.002717</td>\n",
       "    </tr>\n",
       "    <tr>\n",
       "      <th>2</th>\n",
       "      <td>Pte H Yrigoyen 3381</td>\n",
       "      <td>25</td>\n",
       "      <td>45000</td>\n",
       "      <td>2880000</td>\n",
       "      <td>2500</td>\n",
       "      <td>160000</td>\n",
       "      <td>1</td>\n",
       "      <td>64</td>\n",
       "      <td>SEGUNDO</td>\n",
       "      <td>ALMAGRO</td>\n",
       "      <td>5</td>\n",
       "      <td>18.000000</td>\n",
       "    </tr>\n",
       "    <tr>\n",
       "      <th>3</th>\n",
       "      <td>PASAJE BOGADO 4500</td>\n",
       "      <td>18</td>\n",
       "      <td>41000</td>\n",
       "      <td>2624000</td>\n",
       "      <td>2278</td>\n",
       "      <td>145778</td>\n",
       "      <td>1</td>\n",
       "      <td>64</td>\n",
       "      <td>SEGUNDO</td>\n",
       "      <td>ALMAGRO</td>\n",
       "      <td>5</td>\n",
       "      <td>17.998244</td>\n",
       "    </tr>\n",
       "    <tr>\n",
       "      <th>4</th>\n",
       "      <td>Estado de Palestina 500</td>\n",
       "      <td>18</td>\n",
       "      <td>58900</td>\n",
       "      <td>3769600</td>\n",
       "      <td>3272</td>\n",
       "      <td>209422</td>\n",
       "      <td>1</td>\n",
       "      <td>64</td>\n",
       "      <td>SEGUNDO</td>\n",
       "      <td>ALMAGRO</td>\n",
       "      <td>5</td>\n",
       "      <td>18.001222</td>\n",
       "    </tr>\n",
       "    <tr>\n",
       "      <th>5</th>\n",
       "      <td>Mario Bravo al 200 0</td>\n",
       "      <td>23</td>\n",
       "      <td>60000</td>\n",
       "      <td>3840000</td>\n",
       "      <td>3158</td>\n",
       "      <td>202105</td>\n",
       "      <td>1</td>\n",
       "      <td>64</td>\n",
       "      <td>SEGUNDO</td>\n",
       "      <td>ALMAGRO</td>\n",
       "      <td>5</td>\n",
       "      <td>18.999367</td>\n",
       "    </tr>\n",
       "    <tr>\n",
       "      <th>6</th>\n",
       "      <td>Gascon al 1000 0</td>\n",
       "      <td>47</td>\n",
       "      <td>75000</td>\n",
       "      <td>4800000</td>\n",
       "      <td>3750</td>\n",
       "      <td>240000</td>\n",
       "      <td>1</td>\n",
       "      <td>64</td>\n",
       "      <td>SEGUNDO</td>\n",
       "      <td>ALMAGRO</td>\n",
       "      <td>5</td>\n",
       "      <td>20.000000</td>\n",
       "    </tr>\n",
       "    <tr>\n",
       "      <th>7</th>\n",
       "      <td>Don Bosco 3586</td>\n",
       "      <td>42</td>\n",
       "      <td>46900</td>\n",
       "      <td>3001600</td>\n",
       "      <td>2233</td>\n",
       "      <td>142933</td>\n",
       "      <td>1</td>\n",
       "      <td>64</td>\n",
       "      <td>SEGUNDO</td>\n",
       "      <td>ALMAGRO</td>\n",
       "      <td>5</td>\n",
       "      <td>21.003135</td>\n",
       "    </tr>\n",
       "    <tr>\n",
       "      <th>8</th>\n",
       "      <td>Colombres 585</td>\n",
       "      <td>21</td>\n",
       "      <td>56900</td>\n",
       "      <td>3641600</td>\n",
       "      <td>2710</td>\n",
       "      <td>173410</td>\n",
       "      <td>1</td>\n",
       "      <td>64</td>\n",
       "      <td>SEGUNDO</td>\n",
       "      <td>ALMAGRO</td>\n",
       "      <td>5</td>\n",
       "      <td>20.996310</td>\n",
       "    </tr>\n",
       "    <tr>\n",
       "      <th>9</th>\n",
       "      <td>Capital 0</td>\n",
       "      <td>26</td>\n",
       "      <td>63000</td>\n",
       "      <td>4032000</td>\n",
       "      <td>2864</td>\n",
       "      <td>183273</td>\n",
       "      <td>1</td>\n",
       "      <td>64</td>\n",
       "      <td>SEGUNDO</td>\n",
       "      <td>ALMAGRO</td>\n",
       "      <td>5</td>\n",
       "      <td>21.997207</td>\n",
       "    </tr>\n",
       "  </tbody>\n",
       "</table>\n",
       "</div>"
      ],
      "text/plain": [
       "                  Direccion  PropiedadS  Dolares    Pesos  DolaresM2  PesosM2  \\\n",
       "0  Pje Cnel J F Bogado 4561          17    54900  3513600       3229   206682   \n",
       "1               BOGADO 4500          18    53000  3392000       2944   188444   \n",
       "2       Pte H Yrigoyen 3381          25    45000  2880000       2500   160000   \n",
       "3        PASAJE BOGADO 4500          18    41000  2624000       2278   145778   \n",
       "4   Estado de Palestina 500          18    58900  3769600       3272   209422   \n",
       "5      Mario Bravo al 200 0          23    60000  3840000       3158   202105   \n",
       "6          Gascon al 1000 0          47    75000  4800000       3750   240000   \n",
       "7            Don Bosco 3586          42    46900  3001600       2233   142933   \n",
       "8             Colombres 585          21    56900  3641600       2710   173410   \n",
       "9                 Capital 0          26    63000  4032000       2864   183273   \n",
       "\n",
       "   Ambientes  Cotizacion Trimestre   Barrio  Comunas  SuperficieM2  \n",
       "0          1          64   SEGUNDO  ALMAGRO        5     17.002168  \n",
       "1          1          64   SEGUNDO  ALMAGRO        5     18.002717  \n",
       "2          1          64   SEGUNDO  ALMAGRO        5     18.000000  \n",
       "3          1          64   SEGUNDO  ALMAGRO        5     17.998244  \n",
       "4          1          64   SEGUNDO  ALMAGRO        5     18.001222  \n",
       "5          1          64   SEGUNDO  ALMAGRO        5     18.999367  \n",
       "6          1          64   SEGUNDO  ALMAGRO        5     20.000000  \n",
       "7          1          64   SEGUNDO  ALMAGRO        5     21.003135  \n",
       "8          1          64   SEGUNDO  ALMAGRO        5     20.996310  \n",
       "9          1          64   SEGUNDO  ALMAGRO        5     21.997207  "
      ]
     },
     "execution_count": 4,
     "metadata": {},
     "output_type": "execute_result"
    }
   ],
   "source": [
    "data[\"SuperficieM2\"] = data[\"Dolares\"] / data[\"DolaresM2\"]\n",
    "data.head(10)"
   ]
  },
  {
   "cell_type": "markdown",
   "id": "decd891b",
   "metadata": {},
   "source": [
    "<span style='font-family:sans-serif'> Generate descriptive statistics to get more information about the dataset so we know what parameters to use later when plotting"
   ]
  },
  {
   "cell_type": "code",
   "execution_count": 5,
   "id": "900b9fc9",
   "metadata": {},
   "outputs": [
    {
     "data": {
      "text/html": [
       "<div>\n",
       "<style scoped>\n",
       "    .dataframe tbody tr th:only-of-type {\n",
       "        vertical-align: middle;\n",
       "    }\n",
       "\n",
       "    .dataframe tbody tr th {\n",
       "        vertical-align: top;\n",
       "    }\n",
       "\n",
       "    .dataframe thead th {\n",
       "        text-align: right;\n",
       "    }\n",
       "</style>\n",
       "<table border=\"1\" class=\"dataframe\">\n",
       "  <thead>\n",
       "    <tr style=\"text-align: right;\">\n",
       "      <th></th>\n",
       "      <th>PropiedadS</th>\n",
       "      <th>Dolares</th>\n",
       "      <th>Pesos</th>\n",
       "      <th>DolaresM2</th>\n",
       "      <th>PesosM2</th>\n",
       "      <th>Ambientes</th>\n",
       "      <th>Cotizacion</th>\n",
       "      <th>Comunas</th>\n",
       "      <th>SuperficieM2</th>\n",
       "    </tr>\n",
       "  </thead>\n",
       "  <tbody>\n",
       "    <tr>\n",
       "      <th>count</th>\n",
       "      <td>156258.000000</td>\n",
       "      <td>1.562580e+05</td>\n",
       "      <td>1.562580e+05</td>\n",
       "      <td>156258.000000</td>\n",
       "      <td>1.562580e+05</td>\n",
       "      <td>156258.000000</td>\n",
       "      <td>156258.000000</td>\n",
       "      <td>156258.000000</td>\n",
       "      <td>156258.000000</td>\n",
       "    </tr>\n",
       "    <tr>\n",
       "      <th>mean</th>\n",
       "      <td>74.179652</td>\n",
       "      <td>2.139471e+05</td>\n",
       "      <td>1.438505e+07</td>\n",
       "      <td>2913.109473</td>\n",
       "      <td>1.951831e+05</td>\n",
       "      <td>2.536337</td>\n",
       "      <td>67.200009</td>\n",
       "      <td>8.665912</td>\n",
       "      <td>71.373669</td>\n",
       "    </tr>\n",
       "    <tr>\n",
       "      <th>std</th>\n",
       "      <td>85.214643</td>\n",
       "      <td>2.387804e+05</td>\n",
       "      <td>1.636017e+07</td>\n",
       "      <td>1077.613671</td>\n",
       "      <td>7.260647e+04</td>\n",
       "      <td>1.114281</td>\n",
       "      <td>3.558606</td>\n",
       "      <td>4.849992</td>\n",
       "      <td>52.306371</td>\n",
       "    </tr>\n",
       "    <tr>\n",
       "      <th>min</th>\n",
       "      <td>11.000000</td>\n",
       "      <td>7.200000e+03</td>\n",
       "      <td>4.392000e+05</td>\n",
       "      <td>147.000000</td>\n",
       "      <td>9.205000e+03</td>\n",
       "      <td>-7.000000</td>\n",
       "      <td>61.000000</td>\n",
       "      <td>0.000000</td>\n",
       "      <td>10.999937</td>\n",
       "    </tr>\n",
       "    <tr>\n",
       "      <th>25%</th>\n",
       "      <td>41.000000</td>\n",
       "      <td>1.070000e+05</td>\n",
       "      <td>7.089000e+06</td>\n",
       "      <td>2250.000000</td>\n",
       "      <td>1.506300e+05</td>\n",
       "      <td>2.000000</td>\n",
       "      <td>64.000000</td>\n",
       "      <td>4.000000</td>\n",
       "      <td>40.000000</td>\n",
       "    </tr>\n",
       "    <tr>\n",
       "      <th>50%</th>\n",
       "      <td>58.000000</td>\n",
       "      <td>1.500000e+05</td>\n",
       "      <td>1.007750e+07</td>\n",
       "      <td>2757.000000</td>\n",
       "      <td>1.845420e+05</td>\n",
       "      <td>2.000000</td>\n",
       "      <td>67.000000</td>\n",
       "      <td>10.000000</td>\n",
       "      <td>56.006983</td>\n",
       "    </tr>\n",
       "    <tr>\n",
       "      <th>75%</th>\n",
       "      <td>85.000000</td>\n",
       "      <td>2.350000e+05</td>\n",
       "      <td>1.593600e+07</td>\n",
       "      <td>3375.000000</td>\n",
       "      <td>2.254550e+05</td>\n",
       "      <td>3.000000</td>\n",
       "      <td>70.000000</td>\n",
       "      <td>13.000000</td>\n",
       "      <td>82.227355</td>\n",
       "    </tr>\n",
       "    <tr>\n",
       "      <th>max</th>\n",
       "      <td>17180.000000</td>\n",
       "      <td>1.700000e+07</td>\n",
       "      <td>1.088000e+09</td>\n",
       "      <td>72917.000000</td>\n",
       "      <td>4.721354e+06</td>\n",
       "      <td>8.000000</td>\n",
       "      <td>82.000000</td>\n",
       "      <td>15.000000</td>\n",
       "      <td>2999.823540</td>\n",
       "    </tr>\n",
       "  </tbody>\n",
       "</table>\n",
       "</div>"
      ],
      "text/plain": [
       "          PropiedadS       Dolares         Pesos      DolaresM2       PesosM2  \\\n",
       "count  156258.000000  1.562580e+05  1.562580e+05  156258.000000  1.562580e+05   \n",
       "mean       74.179652  2.139471e+05  1.438505e+07    2913.109473  1.951831e+05   \n",
       "std        85.214643  2.387804e+05  1.636017e+07    1077.613671  7.260647e+04   \n",
       "min        11.000000  7.200000e+03  4.392000e+05     147.000000  9.205000e+03   \n",
       "25%        41.000000  1.070000e+05  7.089000e+06    2250.000000  1.506300e+05   \n",
       "50%        58.000000  1.500000e+05  1.007750e+07    2757.000000  1.845420e+05   \n",
       "75%        85.000000  2.350000e+05  1.593600e+07    3375.000000  2.254550e+05   \n",
       "max     17180.000000  1.700000e+07  1.088000e+09   72917.000000  4.721354e+06   \n",
       "\n",
       "           Ambientes     Cotizacion        Comunas   SuperficieM2  \n",
       "count  156258.000000  156258.000000  156258.000000  156258.000000  \n",
       "mean        2.536337      67.200009       8.665912      71.373669  \n",
       "std         1.114281       3.558606       4.849992      52.306371  \n",
       "min        -7.000000      61.000000       0.000000      10.999937  \n",
       "25%         2.000000      64.000000       4.000000      40.000000  \n",
       "50%         2.000000      67.000000      10.000000      56.006983  \n",
       "75%         3.000000      70.000000      13.000000      82.227355  \n",
       "max         8.000000      82.000000      15.000000    2999.823540  "
      ]
     },
     "execution_count": 5,
     "metadata": {},
     "output_type": "execute_result"
    }
   ],
   "source": [
    "data.describe()"
   ]
  },
  {
   "cell_type": "markdown",
   "id": "5247df73",
   "metadata": {},
   "source": [
    "<span style='font-family:sans-serif'> Plotting the dataset"
   ]
  },
  {
   "cell_type": "code",
   "execution_count": 6,
   "id": "3faff82a",
   "metadata": {},
   "outputs": [
    {
     "data": {
      "text/plain": [
       "Text(0.5, 1.0, 'Price Prediction')"
      ]
     },
     "execution_count": 6,
     "metadata": {},
     "output_type": "execute_result"
    },
    {
     "data": {
      "image/png": "[encoded data removed]",
      "text/plain": [
       "<Figure size 640x480 with 1 Axes>"
      ]
     },
     "metadata": {},
     "output_type": "display_data"
    }
   ],
   "source": [
    "plt.scatter(data['SuperficieM2'], data['Dolares'])\n",
    "plt.xticks(np.arange(0, 3000, step=250))\n",
    "plt.yticks(np.arange(0, 20000000, step=1000000))\n",
    "plt.xlabel(\"SuperficieM2 (Surface in sqm)\")\n",
    "plt.ylabel(\"Dolares (Price in USD)\")\n",
    "plt.title(\"Price Prediction\")"
   ]
  },
  {
   "cell_type": "markdown",
   "id": "ad7b43ae",
   "metadata": {},
   "source": [
    "<span style='font-family:sans-serif'> The goal in a supervised learning problem is, given a training set, to learn a function $h:\\mathcal{X}{\\rightarrow}\\mathcal{Y}$ so that $h(x)$ is a good predictor for the corresponding value of $y$. We will call function $h$ the hypothesis. When the target variable that we are trying to predict is continuous, such as apartments prices in the example above, the learning problem is called a **regression** problem. When $y$ can take only a small number of discrete values, it is called a **classification** problem."
   ]
  },
  {
   "cell_type": "markdown",
   "id": "509cbeec",
   "metadata": {},
   "source": [
    "<span style='font-family:sans-serif'> To perform supervised learning, we must decide how we're going to represent the hypothesis $h$. As a initial choice, let's say we decide to approximate $y$ as a linear function of $x$:"
   ]
  },
  {
   "cell_type": "markdown",
   "id": "73f420c8",
   "metadata": {},
   "source": [
    "${h}_{\\theta}(x) = {\\theta}_{0} + {\\theta}_{1}x $"
   ]
  },
  {
   "cell_type": "markdown",
   "id": "37aefcd5",
   "metadata": {},
   "source": [
    "<span style='font-family:sans-serif'> The ${\\theta}_{i}$'s are called the parameters of the learning algorithm, so the job of the algorithm is to choose parameters ${\\theta}$ that allow us to make good predictions. We will call $m$ the number of training examples, in other words $m$ is the number of rows in the dataset. A training example is denoted as $(x,y)$, following this $({x}^{(i)},{y}^{(i)})$ is the ith training example."
   ]
  },
  {
   "cell_type": "markdown",
   "id": "1f0b6b73",
   "metadata": {},
   "source": [
    "<span style='font-family:sans-serif'> Now, given a training set, how do we pick or learn the parameters ${\\theta}$? A reasonable method seems to be to make $h(x)$ close to $y$, at least for the training examples available. To formalize this, we will define a function that measures, for each value of the $\\theta$'s, how close the $h({x}^{(i)})$'s are to the corresponding ${y}^{(i)}$'s. The function will be called Cost Function $J(\\theta)$ and will be defined as the least-squares cost function:"
   ]
  },
  {
   "cell_type": "markdown",
   "id": "1fdb1c4a",
   "metadata": {},
   "source": [
    "$J(\\theta)=\\frac{1}{2}\\sum_{i=1}^m(h_{\\theta}({x}^{(i)})-{y}^{(i)})^2$"
   ]
  },
  {
   "cell_type": "markdown",
   "id": "77a71bdf",
   "metadata": {},
   "source": [
    "<span style='font-family:sans-serif'> So this function measures the closeness of the $h({x}^{(i)})$'s to the corresponding ${y}^{(i)}$'s as the square diference between the hypothesis outputs ($h({x}^{(i)})$'s) and the correct price (${y}^{(i)}$'s), given $m$ training examples that gives us the summation of the square diferences. By convention we multiple the result by $\\frac{1}{2}$ to make the math a bit more simpler when we take derivatives later to minimize the formula, this is possible because minimizing the formula would give the same result as minizing one half of it. "
   ]
  },
  {
   "cell_type": "markdown",
   "id": "cf32d164",
   "metadata": {},
   "source": [
    "<span style='font-family:sans-serif'> Defining the Cost Function $J(\\theta)$"
   ]
  },
  {
   "cell_type": "code",
   "execution_count": 7,
   "id": "2f498879",
   "metadata": {},
   "outputs": [],
   "source": [
    "def costJ(X, y, theta):\n",
    "    m = len(y)\n",
    "    predictions = X.dot(theta)\n",
    "    square_err = (predictions - y)**2\n",
    "    return 1/(2*m) * np.sum(square_err)"
   ]
  },
  {
   "cell_type": "code",
   "execution_count": 8,
   "id": "2bcac934",
   "metadata": {},
   "outputs": [
    {
     "data": {
      "text/plain": [
       "51394534382.10344"
      ]
     },
     "execution_count": 8,
     "metadata": {},
     "output_type": "execute_result"
    }
   ],
   "source": [
    "selected_data = data[['SuperficieM2', 'Dolares']].copy()\n",
    "data_n = selected_data.values\n",
    "m = data_n[:,0].size\n",
    "X = np.append(np.ones((m,1)), data_n[:,0].reshape(m,1), axis=1)\n",
    "y = data_n[:,1].reshape(m,1)\n",
    "theta = np.zeros((2,1))\n",
    "\n",
    "costJ(X, y, theta)"
   ]
  },
  {
   "cell_type": "markdown",
   "id": "e532a615",
   "metadata": {},
   "source": [
    "<span style='font-family:sans-serif'> Now, we want to find ${\\theta}$ that minimizes the cost function $J(\\theta)$. To do this we will use an algorithm called Gradient Descent that does the following:\n",
    "1. Start with some value of ${\\theta}$, it could be $\\overset{\\rightarrow}{0}$ or initialized randomly. \n",
    "2. Keep changing ${\\theta}$ to reduce $J(\\theta)$."
   ]
  },
  {
   "cell_type": "markdown",
   "id": "59d04b51",
   "metadata": {},
   "source": [
    "In simple words, what Gradient Descent does is start at a random point, turn around all 360 degrees and see in which direction to take a step to go downhill as fast as possible, and then repeat until it reaches a local minimum. "
   ]
  },
  {
   "cell_type": "markdown",
   "id": "c21d9868",
   "metadata": {},
   "source": [
    "Remembering calculus, the derivative of a functions defines the direction of the steepest descent, so it defines de direction that allows one to go downhill as steeply as possible. So Gradient Descent starts with some initial ${\\theta}$ and repeteadly performs the update:"
   ]
  },
  {
   "cell_type": "markdown",
   "id": "0799b496",
   "metadata": {},
   "source": [
    "${\\theta}_{j}:={\\theta}_{j}-\\alpha\\frac{\\partial}{\\partial{\\theta}_{j}}J(\\theta)\\textrm{, (for every j)}$"
   ]
  },
  {
   "cell_type": "markdown",
   "id": "8be0e1ad",
   "metadata": {},
   "source": [
    "Where $\\alpha$ is called the learning rate and $\\frac{\\partial}{\\partial{\\theta}_{j}}J(\\theta)$ is the partial derivative of the cost function $J(\\theta)$ with respect to the parameter ${\\theta}_{j}$. We will first work out the case of if we only have one training example $(x,y)$, so that we can neglect the summation in the definition of $J$. Doing the math will give us:"
   ]
  },
  {
   "cell_type": "markdown",
   "id": "7136df49",
   "metadata": {},
   "source": [
    "$\\frac{\\partial}{\\partial{\\theta}_{j}}J(\\theta)=(h_{\\theta}(x)-y)x_{j}$"
   ]
  },
  {
   "cell_type": "markdown",
   "id": "cda1a2a9",
   "metadata": {},
   "source": [
    "For a single training example, this gives the update rule:"
   ]
  },
  {
   "cell_type": "markdown",
   "id": "ab007dbb",
   "metadata": {},
   "source": [
    "${\\theta}_{j}:={\\theta}_{j}+\\alpha(y^{(i)}-h_{\\theta}(x^{(i)}))x_{j}^{(i)}$"
   ]
  },
  {
   "cell_type": "markdown",
   "id": "2b854192",
   "metadata": {},
   "source": [
    "Since there are actually $m$ training examples, the correct formula for the derivative is to take actually this and sum it all over $m$ training examples (the derivative of the sum is the sum of the derivatives). The Gradient Descent algorithm is to repeat the following update rule until convergence:"
   ]
  },
  {
   "cell_type": "markdown",
   "id": "a26b9e74",
   "metadata": {},
   "source": [
    "${\\theta}_{j}:={\\theta}_{j}+\\alpha\\sum_{i=1}^m(y^{(i)}-h_{\\theta}(x^{(i)}))x_{j}^{(i)}\\textrm{, (for every j)}$"
   ]
  },
  {
   "cell_type": "markdown",
   "id": "a5df1424",
   "metadata": {},
   "source": [
    "Defining Gradient Descent"
   ]
  },
  {
   "cell_type": "code",
   "execution_count": 9,
   "id": "c5c14f6f",
   "metadata": {},
   "outputs": [],
   "source": [
    "def gradientDescent(X, y, theta, alpha, num_iters):\n",
    "    m = len(y)\n",
    "    J_history = []\n",
    "    \n",
    "    for i in range(num_iters):\n",
    "        predictions = X.dot(theta)\n",
    "        error = np.dot(X.transpose(),(predictions -y))\n",
    "        descent = alpha * 1/m * error\n",
    "        theta -= descent\n",
    "        J_history.append(costJ(X, y, theta))\n",
    "        \n",
    "    return theta, J_history"
   ]
  },
  {
   "cell_type": "code",
   "execution_count": 10,
   "id": "52a84621",
   "metadata": {},
   "outputs": [
    {
     "name": "stdout",
     "output_type": "stream",
     "text": [
      "h(x) = 6.87 +  3206.21 x\n"
     ]
    }
   ],
   "source": [
    "updated_theta, J_history = gradientDescent(X, y ,theta, 0.000001, 1500)\n",
    "print(\"h(x) = \" + str(round(updated_theta[0,0],2)) + \" +  \" + str(round(updated_theta[1,0],2) ) + \" x\")"
   ]
  },
  {
   "cell_type": "markdown",
   "id": "a9be5b33",
   "metadata": {},
   "source": [
    "Visualizing the Cost Function $J(\\theta)$"
   ]
  },
  {
   "cell_type": "code",
   "execution_count": 11,
   "id": "dfbbaae9",
   "metadata": {},
   "outputs": [],
   "source": [
    "from mpl_toolkits.mplot3d import Axes3D"
   ]
  },
  {
   "cell_type": "code",
   "execution_count": 12,
   "id": "3ba8b986",
   "metadata": {},
   "outputs": [
    {
     "data": {
      "text/plain": [
       "Text(0.5, 1.0, 'Cost function using Gradient Descent')"
      ]
     },
     "execution_count": 12,
     "metadata": {},
     "output_type": "execute_result"
    },
    {
     "data": {
      "image/png": "[encoded data removed]",
      "text/plain": [
       "<Figure size 640x480 with 1 Axes>"
      ]
     },
     "metadata": {},
     "output_type": "display_data"
    }
   ],
   "source": [
    "plt.plot(J_history)\n",
    "plt.xlabel(\"Iteration\")\n",
    "plt.ylabel(\"$J(\\Theta)$\")\n",
    "plt.title(\"Cost function using Gradient Descent\")"
   ]
  },
  {
   "cell_type": "markdown",
   "id": "9736b4cc",
   "metadata": {},
   "source": [
    "Graph with Best Fit Line"
   ]
  },
  {
   "cell_type": "code",
   "execution_count": 13,
   "id": "9489d6b5",
   "metadata": {},
   "outputs": [
    {
     "data": {
      "text/plain": [
       "Text(0.5, 1.0, 'Price Prediction')"
      ]
     },
     "execution_count": 13,
     "metadata": {},
     "output_type": "execute_result"
    },
    {
     "data": {
      "image/png": "[encoded data removed]",
      "text/plain": [
       "<Figure size 640x480 with 1 Axes>"
      ]
     },
     "metadata": {},
     "output_type": "display_data"
    }
   ],
   "source": [
    "plt.scatter(data['SuperficieM2'], data['Dolares'])\n",
    "x_value = [x for x in range(0, 3000, 250)]\n",
    "y_value = [y*theta[1]+theta[0] for y in x_value]\n",
    "plt.plot(x_value, y_value, color=\"orange\")\n",
    "plt.xticks(np.arange(0, 3000, step=250))\n",
    "plt.yticks(np.arange(0, 20000000, step=1000000))\n",
    "plt.xlabel(\"SuperficieM2 (Surface in sqm)\")\n",
    "plt.ylabel(\"Dolares (Price in USD)\")\n",
    "plt.title(\"Price Prediction\")"
   ]
  },
  {
   "cell_type": "markdown",
   "id": "449f52c7",
   "metadata": {},
   "source": [
    "Making Predictions Using the Optimized $\\overset{\\rightarrow}{\\theta}$"
   ]
  },
  {
   "cell_type": "code",
   "execution_count": 14,
   "id": "a2646adc",
   "metadata": {},
   "outputs": [],
   "source": [
    "def predict(x, theta):\n",
    "    predictions = np.dot(theta.transpose(),x)\n",
    "    return predictions[0]"
   ]
  },
  {
   "cell_type": "code",
   "execution_count": 15,
   "id": "42cc947e",
   "metadata": {},
   "outputs": [
    {
     "name": "stdout",
     "output_type": "stream",
     "text": [
      "For a 30 square meter apartment, a price of $96193.0 USD is predicted.\n"
     ]
    }
   ],
   "source": [
    "prediction = predict(np.array([1,30]), theta)\n",
    "print(\"For a 30 square meter apartment, a price of $\" + str(round(prediction,0)) + \" USD is predicted.\")"
   ]
  },
  {
   "cell_type": "code",
   "execution_count": 16,
   "id": "58530a53",
   "metadata": {},
   "outputs": [
    {
     "name": "stdout",
     "output_type": "stream",
     "text": [
      "For a 50 square meter apartment, a price of $160317.0 USD is predicted.\n"
     ]
    }
   ],
   "source": [
    "prediction = predict(np.array([1,50]), theta)\n",
    "print(\"For a 50 square meter apartment, a price of $\" + str(round(prediction,0)) + \" USD is predicted.\")"
   ]
  }
 ],
 "metadata": {
  "kernelspec": {
   "display_name": "Python 3 (ipykernel)",
   "language": "python",
   "name": "python3"
  },
  "language_info": {
   "codemirror_mode": {
    "name": "ipython",
    "version": 3
   },
   "file_extension": ".py",
   "mimetype": "text/x-python",
   "name": "python",
   "nbconvert_exporter": "python",
   "pygments_lexer": "ipython3",
   "version": "3.11.4"
  }
 },
 "nbformat": 4,
 "nbformat_minor": 5
}
